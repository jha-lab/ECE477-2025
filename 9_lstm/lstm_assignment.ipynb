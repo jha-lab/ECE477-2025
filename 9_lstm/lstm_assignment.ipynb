{
 "cells": [
  {
   "cell_type": "markdown",
   "id": "31b8c12d-7dcd-4961-8d27-4559223491c9",
   "metadata": {
    "id": "31b8c12d-7dcd-4961-8d27-4559223491c9"
   },
   "source": [
    "# Important notice: any use of generative AI for completing the assignment is strictly prohibited."
   ]
  },
  {
   "cell_type": "markdown",
   "id": "Fk_oZVBFUuLi",
   "metadata": {
    "id": "Fk_oZVBFUuLi"
   },
   "source": [
    "### Note: if working in Colab, don't forget to select runtime type in Colab: GPU"
   ]
  },
  {
   "cell_type": "code",
   "execution_count": null,
   "id": "o6MS4GMlVlK3",
   "metadata": {
    "colab": {
     "base_uri": "https://localhost:8080/"
    },
    "id": "o6MS4GMlVlK3",
    "outputId": "02d5a40f-06bf-4682-de26-39e736cf71d9"
   },
   "outputs": [],
   "source": [
    "# use that if working in colab\n",
    "# permit Colab access your google drive, and select Princeton account\n",
    "\n",
    "from google.colab import drive\n",
    "drive.mount('/content/drive')"
   ]
  },
  {
   "cell_type": "code",
   "execution_count": null,
   "id": "EJ8uno0NWYBD",
   "metadata": {
    "id": "EJ8uno0NWYBD"
   },
   "outputs": [],
   "source": [
    "diab_deep_path = \"/content/drive/Shared drives/ECE477 datasets/Assignment9/diabdeep/\""
   ]
  },
  {
   "cell_type": "code",
   "execution_count": null,
   "id": "fpNYeuEzZNrb",
   "metadata": {
    "id": "fpNYeuEzZNrb"
   },
   "outputs": [],
   "source": [
    "# only for local work on Della when you have unarchived data\n",
    "\n",
    "# diab_deep_path = \"diabdeep/\""
   ]
  },
  {
   "cell_type": "markdown",
   "id": "8Ppjoq6bZG5U",
   "metadata": {
    "id": "8Ppjoq6bZG5U"
   },
   "source": [
    "## Warning: to ensure the reproducibility of your results and to achieve the full grade, do not change or remove RANDOM_STATE variables and setting random seed statements. If you remove or change them, you may not get the full grade."
   ]
  },
  {
   "cell_type": "code",
   "execution_count": null,
   "id": "zD0-XdcUUvn8",
   "metadata": {
    "colab": {
     "base_uri": "https://localhost:8080/"
    },
    "id": "zD0-XdcUUvn8",
    "outputId": "321a21e5-c580-4599-8f90-10779a16bdd6"
   },
   "outputs": [],
   "source": [
    "import os\n",
    "import numpy as np\n",
    "import torch\n",
    "import torch.nn as nn\n",
    "import torch.optim as optim\n",
    "from torch.utils.data import Dataset, DataLoader, random_split\n",
    "from torch.nn.utils.rnn import pad_sequence\n",
    "\n",
    "import random\n",
    "\n",
    "# Set a random seed for reproducibility\n",
    "RANDOM_STATE = 0\n",
    "torch.manual_seed(RANDOM_STATE)\n",
    "np.random.seed(RANDOM_STATE)\n",
    "random.seed(RANDOM_STATE)\n",
    "\n",
    "torch.backends.cudnn.deterministic = True\n",
    "torch.backends.cudnn.benchmark = False\n",
    "\n",
    "\n",
    "torch.use_deterministic_algorithms(True)\n",
    "os.environ['CUBLAS_WORKSPACE_CONFIG'] = ':4096:8'\n",
    "\n",
    "\n",
    "device = torch.device('cuda' if torch.cuda.is_available() else 'cpu')\n",
    "print(\"Using device:\", device)"
   ]
  },
  {
   "cell_type": "markdown",
   "id": "765444c6-e9b9-4184-ab79-d395feb414af",
   "metadata": {
    "id": "765444c6-e9b9-4184-ab79-d395feb414af"
   },
   "source": [
    "### DiabDeep data format:\n",
    "\n",
    "Processed data with a 15-second window for data instances, and 45-second shift between the data instances (used in the DiabDeep paper).\n",
    "\n",
    "Each file has shape (T, F), where T is the number of time steps for that patient (each row is one 15s window), F - feature dimension (2355).\n",
    "\n",
    "Label 1: healthy\n",
    "\n",
    "Label 2: unhealthy (has diabetes)\n",
    "\n",
    "We’ll parse each filename to read the patient data and label, load it into memory, and produce (timeseries, label) pairs.\n",
    "\n",
    "Note: we will remap labels to traditional 0/1 by subtracting 1."
   ]
  },
  {
   "cell_type": "code",
   "execution_count": null,
   "id": "afb9d6c7-f429-44cc-89d0-d1f8abca856a",
   "metadata": {
    "id": "afb9d6c7-f429-44cc-89d0-d1f8abca856a"
   },
   "outputs": [],
   "source": [
    "class DiabDeepDataset(Dataset):\n",
    "    def __init__(self, folder_path, subset_sensors=None, min_val=None, max_val=None):\n",
    "        self.folder_path = folder_path\n",
    "        # Load all filenames ending with .npy from the folder.\n",
    "        self.filenames = sorted([f for f in os.listdir(folder_path) if f.endswith(\".npy\")])\n",
    "        self.subset_sensors = subset_sensors\n",
    "\n",
    "        # Build an index mapping: for each file and each row in the file,\n",
    "        # we record (filename, window_index)\n",
    "        self.index_mapping = []\n",
    "        for f in self.filenames:\n",
    "            filepath = os.path.join(folder_path, f)\n",
    "            data = np.load(filepath)  # shape (T, F)\n",
    "            T = data.shape[0]\n",
    "            for t in range(T):\n",
    "                self.index_mapping.append((f, t))\n",
    "\n",
    "        # Compute min and max if not provided.\n",
    "        if min_val is None or max_val is None:\n",
    "            self.min_val, self.max_val = self.compute_min_max()\n",
    "        else:\n",
    "            self.min_val, self.max_val = min_val, max_val\n",
    "\n",
    "    def compute_min_max(self):\n",
    "        all_data = []\n",
    "        for f in self.filenames:\n",
    "            filepath = os.path.join(self.folder_path, f)\n",
    "            data = np.load(filepath)  # shape (T, F)\n",
    "            if self.subset_sensors is not None:\n",
    "                data = data[:, self.subset_sensors]\n",
    "            all_data.append(data)\n",
    "        all_data = np.concatenate(all_data, axis=0)  # shape (total_windows, F)\n",
    "        computed_min = np.min(all_data, axis=0)\n",
    "        computed_max = np.max(all_data, axis=0)\n",
    "\n",
    "        computed_max[computed_max == computed_min] = computed_min[computed_max == computed_min] + 1\n",
    "        return computed_min, computed_max\n",
    "\n",
    "    def __getitem__(self, idx):\n",
    "        filename, window_idx = self.index_mapping[idx]\n",
    "        filepath = os.path.join(self.folder_path, filename)\n",
    "        data = np.load(filepath)  # shape (T, F)\n",
    "        if self.subset_sensors is not None:\n",
    "            data = data[:, self.subset_sensors]\n",
    "        # Extract the specific window (row)\n",
    "        window = data[window_idx, :]  # shape (F,)\n",
    "        # Apply min–max scaling: scale each feature to [0, 1]\n",
    "        window = (window - self.min_val) / (self.max_val - self.min_val + 1e-8)\n",
    "        # Convert to tensor and add a time-step dimension: (1, F)\n",
    "        window_tensor = torch.tensor(window, dtype=torch.float32).unsqueeze(0)\n",
    "\n",
    "        # Parse the label from filename by splitting on '_'\n",
    "        # Expected format: diab_w15_s45_label_Z_patient_XX_YYY.npy\n",
    "        parts = filename.split(\"_\")\n",
    "        # remap labels for a 0/1\n",
    "        label = int(parts[4]) - 1\n",
    "        label_tensor = torch.tensor(label, dtype=torch.long)\n",
    "\n",
    "        return window_tensor, label_tensor\n",
    "\n",
    "    def __len__(self):\n",
    "        return len(self.index_mapping)\n",
    "\n",
    "\n",
    "def collate_fn_windows(batch):\n",
    "    # Each item in batch: (window_tensor, label_tensor)\n",
    "    windows, labels = zip(*batch)\n",
    "    # windows are each of shape (1, F). Concatenate along batch dimension.\n",
    "    windows = torch.cat(windows, dim=0).unsqueeze(1)  # resulting shape: (batch, 1, F)\n",
    "    labels = torch.stack(labels)\n",
    "    # Since each window is a single time step, lengths are all 1.\n",
    "    lengths = torch.ones(len(labels), dtype=torch.long)\n",
    "    return windows, labels, lengths\n"
   ]
  },
  {
   "cell_type": "markdown",
   "id": "d936b009-69be-4af5-9195-3c4aee501f47",
   "metadata": {
    "id": "d936b009-69be-4af5-9195-3c4aee501f47"
   },
   "source": [
    "# H-LSTM: LSTM with additional hidden layers added to its control gates"
   ]
  },
  {
   "cell_type": "markdown",
   "id": "1ae92406-6d44-4939-abd5-f91d79977b69",
   "metadata": {
    "id": "1ae92406-6d44-4939-abd5-f91d79977b69"
   },
   "source": [
    "### Task 1: Implement H-LSTM cell as described in the paper (10 points)\n",
    "In H_LSTMCell class define a hidden layer and gates (take a look at figure 3 in the paper and the equations).\n",
    "\n",
    "Fill in 3 gaps."
   ]
  },
  {
   "cell_type": "code",
   "execution_count": null,
   "id": "05c372e5-c956-4f6b-a4d6-dbdb00ffc42c",
   "metadata": {
    "id": "05c372e5-c956-4f6b-a4d6-dbdb00ffc42c"
   },
   "outputs": [],
   "source": [
    "class H_LSTMCell(nn.Module):\n",
    "    \"\"\"\n",
    "    A custom LSTM cell with a hidden layer added to each gate.\n",
    "    This follows the idea of a \"hidden-layer LSTM\" (H-LSTM) as in the paper.\n",
    "    \"\"\"\n",
    "    def __init__(self, input_size, hidden_size, gate_hidden_size=64):\n",
    "        super(H_LSTMCell, self).__init__()\n",
    "        self.input_size = input_size\n",
    "        self.hidden_size = hidden_size\n",
    "        self.gate_hidden_size = gate_hidden_size\n",
    "        self.relu = nn.ReLU()\n",
    "\n",
    "        # Hidden layer for gate computations: processes concatenated [x, h_prev]\n",
    "        # x: (batch, input_size), h_prev: (batch, hidden_size)\n",
    "        # your code is here\n",
    "        self.fc_hidden = ...\n",
    "\n",
    "        # For each gate, we apply a linear layer from the hidden layer output to the gate's output.\n",
    "        # Implement self.fc_f, self.fc_i, self.fc_o, self.fc_g: forget, input, output gates and candidate cell state\n",
    "        # according to the DiabDeep paper\n",
    "        # your code is here\n",
    "\n",
    "    def forward(self, x, h_prev, c_prev):\n",
    "        # x: (batch, input_size)\n",
    "        # h_prev, c_prev: (batch, hidden_size)\n",
    "        combined = torch.cat((x, h_prev), dim=1)  # (batch, input_size + hidden_size)\n",
    "        # Implement according to the DiabDeep paper (sigma referes to sigmoid activation function):\n",
    "        # hidden layer layer for gate computations calculation (outputs(batch, gate_hidden_size));\n",
    "        # forget, input, output and candidate cell gates calculations\n",
    "        # your code is here\n",
    "\n",
    "        h = o * torch.tanh(c)\n",
    "        return h, c\n",
    "\n",
    "class H_LSTMLayer(nn.Module):\n",
    "    \"\"\"\n",
    "    A single-layer H-LSTM that processes an entire sequence.\n",
    "    \"\"\"\n",
    "    def __init__(self, input_size, hidden_size, gate_hidden_size=64):\n",
    "        super(H_LSTMLayer, self).__init__()\n",
    "        self.cell = H_LSTMCell(input_size, hidden_size, gate_hidden_size)\n",
    "\n",
    "    def forward(self, x):\n",
    "        # x: (batch, seq_len, input_size)\n",
    "        batch_size, seq_len, _ = x.size()\n",
    "        h = torch.zeros(batch_size, self.cell.hidden_size, device=x.device)\n",
    "        c = torch.zeros(batch_size, self.cell.hidden_size, device=x.device)\n",
    "        outputs = []\n",
    "        for t in range(seq_len):\n",
    "            h, c = self.cell(x[:, t, :], h, c)\n",
    "            outputs.append(h.unsqueeze(1))\n",
    "        outputs = torch.cat(outputs, dim=1)  # (batch, seq_len, hidden_size)\n",
    "        return outputs, (h, c)"
   ]
  },
  {
   "cell_type": "markdown",
   "id": "f854de91-94fd-461b-a0bf-8dabecdf6684",
   "metadata": {
    "id": "f854de91-94fd-461b-a0bf-8dabecdf6684"
   },
   "source": [
    "## Classifier Model Using H-LSTM"
   ]
  },
  {
   "cell_type": "markdown",
   "id": "e2cd4614-7c29-4b7d-9308-931e36a952d1",
   "metadata": {
    "id": "e2cd4614-7c29-4b7d-9308-931e36a952d1"
   },
   "source": [
    "### Task 2: Implement the forward pass in H_LSTMClassifier (5 points)\n",
    "\n",
    "1. Define dropout and classifictaion layers\n",
    "2. Add concatenation, calculate dropout and output logits in the forward pass.\n",
    "\n",
    "(total 3 gaps)"
   ]
  },
  {
   "cell_type": "code",
   "execution_count": null,
   "id": "cde37ba4-c8c8-4238-9ed5-3b3b366b6592",
   "metadata": {
    "id": "cde37ba4-c8c8-4238-9ed5-3b3b366b6592"
   },
   "outputs": [],
   "source": [
    "class H_LSTMClassifier(nn.Module):\n",
    "    def __init__(self, input_size, hidden_size, num_classes, gate_hidden_size=64, dropout=0.2):\n",
    "        \"\"\"\n",
    "        input_size: dimension of input features\n",
    "        hidden_size: hidden state dimension of the H-LSTM (set to 96 as in the paper)\n",
    "        num_classes: number of classes (e.g. two for diab-healthy vs. has diabetes)\n",
    "        gate_hidden_size: hidden layer dimension within each gate\n",
    "        \"\"\"\n",
    "        super(H_LSTMClassifier, self).__init__()\n",
    "        # define H_LSTMLayer layer\n",
    "        self.h_lstm = ...\n",
    "\n",
    "        # define dropout and classification layers\n",
    "        # your code is here\n",
    "\n",
    "\n",
    "    def forward(self, x, lengths):\n",
    "        \"\"\"\n",
    "        x: padded tensor of shape (batch, max_seq_len, input_size)\n",
    "        lengths: tensor of original sequence lengths (batch,)\n",
    "        \"\"\"\n",
    "        outputs, (h, c) = self.h_lstm(x)  # outputs: (batch, seq_len, hidden_size)\n",
    "        # For each sample in the batch, get the output at the last valid time step.\n",
    "        batch_size = x.size(0)\n",
    "        last_outputs = []\n",
    "        for i in range(batch_size):\n",
    "            last_outputs.append(outputs[i, lengths[i]-1, :].unsqueeze(0))\n",
    "        # concat all last_outputs tensors to get tensor of (batch, hidden_size)\n",
    "        # apply dropout before classification, then cacluate the prediction logits\n",
    "        # your code is here\n",
    "\n",
    "        return logits"
   ]
  },
  {
   "cell_type": "markdown",
   "id": "45f4b413-3e28-4944-8173-b029c888ce9e",
   "metadata": {
    "id": "45f4b413-3e28-4944-8173-b029c888ce9e"
   },
   "source": [
    "#  Training and Evaluation Functions"
   ]
  },
  {
   "cell_type": "markdown",
   "id": "9483b2a1-eddb-4c96-b055-1ddab305ae1a",
   "metadata": {
    "id": "9483b2a1-eddb-4c96-b055-1ddab305ae1a"
   },
   "source": [
    "### Task 3: complete training and evaluation loops (5 points)\n",
    "\n",
    "Fill in 3 gaps"
   ]
  },
  {
   "cell_type": "code",
   "execution_count": null,
   "id": "88b93795-db3e-44f0-8bbb-e2261feae722",
   "metadata": {
    "id": "88b93795-db3e-44f0-8bbb-e2261feae722"
   },
   "outputs": [],
   "source": [
    "def train_model(model, train_loader, test_loader, optimizer, scheduler, criterion, epochs=30):\n",
    "    for epoch in range(epochs):\n",
    "        model.train()\n",
    "        running_loss = 0.0\n",
    "        for data, labels, lengths in train_loader:\n",
    "            data = data.to(device)\n",
    "            labels = labels.to(device)\n",
    "            lengths = lengths.to(device)\n",
    "\n",
    "            optimizer.zero_grad()\n",
    "            outputs = model(data, lengths)\n",
    "            loss = criterion(outputs, labels)\n",
    "            loss.backward()\n",
    "            optimizer.step()\n",
    "            # calc running loss\n",
    "            # your code is here\n",
    "\n",
    "        epoch_loss = running_loss / len(train_loader)\n",
    "        test_acc = evaluate_model(model, test_loader)\n",
    "        scheduler.step(test_acc)\n",
    "        print(f\"Epoch {epoch+1}/{epochs}, Loss: {epoch_loss:.4f}, Test Acc: {test_acc:.2f}%\")\n",
    "\n",
    "def evaluate_model(model, loader):\n",
    "    model.eval()\n",
    "    correct = 0\n",
    "    total = 0\n",
    "    with torch.no_grad():\n",
    "        for data, labels, lengths in loader:\n",
    "            # predict the output on the data\n",
    "            # your code is here\n",
    "\n",
    "            _, predicted = torch.max(outputs, 1)\n",
    "            total += labels.size(0)\n",
    "            # calculate the number of correct predictions \n",
    "            # your code is here\n",
    "\n",
    "    return 100.0 * correct / total"
   ]
  },
  {
   "cell_type": "markdown",
   "id": "84601bce-8b59-414d-876f-311bd7800e62",
   "metadata": {
    "id": "84601bce-8b59-414d-876f-311bd7800e62"
   },
   "source": [
    "# Load the dataset"
   ]
  },
  {
   "cell_type": "code",
   "execution_count": null,
   "id": "6e82ad9e-2698-464f-9791-42c217769edc",
   "metadata": {
    "id": "6e82ad9e-2698-464f-9791-42c217769edc"
   },
   "outputs": [],
   "source": [
    "# Reset the generator for reproducible shuffling.\n",
    "g = torch.Generator()\n",
    "g.manual_seed(RANDOM_STATE)\n",
    "\n",
    "dataset_folder = diab_deep_path\n",
    "dataset = DiabDeepDataset(folder_path=dataset_folder)\n",
    "train_size = int(0.8 * len(dataset))\n",
    "test_size = len(dataset) - train_size\n",
    "train_dataset, test_dataset = random_split(dataset, [train_size, test_size])\n",
    "\n",
    "# pass generator=g to train_loader for reproducibility\n",
    "train_loader = DataLoader(train_dataset, batch_size=64, shuffle=True, collate_fn=collate_fn_windows, generator=g)\n",
    "test_loader = DataLoader(test_dataset, batch_size=64, shuffle=False, collate_fn=collate_fn_windows)"
   ]
  },
  {
   "cell_type": "markdown",
   "id": "3tA7S6Xsb8GE",
   "metadata": {
    "id": "3tA7S6Xsb8GE"
   },
   "source": []
  },
  {
   "cell_type": "markdown",
   "id": "aa05a033-5e11-4bf1-934b-8bb8d3508671",
   "metadata": {
    "id": "aa05a033-5e11-4bf1-934b-8bb8d3508671"
   },
   "source": [
    "# Putting It All Together"
   ]
  },
  {
   "cell_type": "markdown",
   "id": "HQU0ubwK0R32",
   "metadata": {
    "id": "HQU0ubwK0R32"
   },
   "source": [
    "### Warning: training takes a while. For test purposes run only for 1-5 epochs or you may run out of Colab credits soon. Run for all epochs only for few final trainings."
   ]
  },
  {
   "cell_type": "code",
   "execution_count": null,
   "id": "350719f7-3c64-4f6b-be16-304d5c02418d",
   "metadata": {
    "colab": {
     "base_uri": "https://localhost:8080/"
    },
    "id": "350719f7-3c64-4f6b-be16-304d5c02418d",
    "outputId": "c5d3fa62-ce2d-407e-97ba-9b4be39a89e9",
    "scrolled": true
   },
   "outputs": [],
   "source": [
    "torch.manual_seed(RANDOM_STATE)\n",
    "torch.cuda.manual_seed_all(RANDOM_STATE)\n",
    "\n",
    "model = H_LSTMClassifier(input_size=2355, hidden_size=96, num_classes=2, gate_hidden_size=64, dropout=0.2).to(device)\n",
    "\n",
    "optimizer = optim.SGD(model.parameters(), lr=0.001, momentum=0.9)\n",
    "scheduler = torch.optim.lr_scheduler.ReduceLROnPlateau(optimizer, mode='max', factor=0.1, patience=5, verbose=True)\n",
    "criterion = nn.CrossEntropyLoss()\n",
    "\n",
    "# Train the model.\n",
    "# to get the best performance, the network should be trained for 100 epochs with ReduceLROnPlateau(patience=30) scheduler\n",
    "# but to save Colab gpu we train only for 25 epochs\n",
    "train_model(model, train_loader, test_loader, optimizer, scheduler, criterion, epochs=25)\n",
    "\n",
    "# Evaluate on the test set.\n",
    "test_acc = evaluate_model(model, test_loader)\n",
    "print(f\"Test Accuracy: {test_acc:.2f}%\")"
   ]
  },
  {
   "cell_type": "code",
   "execution_count": null,
   "id": "t2qD0ucxEVsp",
   "metadata": {
    "id": "t2qD0ucxEVsp"
   },
   "outputs": [],
   "source": []
  }
 ],
 "metadata": {
  "accelerator": "GPU",
  "colab": {
   "gpuType": "T4",
   "provenance": []
  },
  "kernelspec": {
   "display_name": "scann",
   "language": "python",
   "name": "scann"
  },
  "language_info": {
   "codemirror_mode": {
    "name": "ipython",
    "version": 3
   },
   "file_extension": ".py",
   "mimetype": "text/x-python",
   "name": "python",
   "nbconvert_exporter": "python",
   "pygments_lexer": "ipython3",
   "version": "3.12.2"
  }
 },
 "nbformat": 4,
 "nbformat_minor": 5
}
